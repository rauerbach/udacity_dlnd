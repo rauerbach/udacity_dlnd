{
 "cells": [
  {
   "cell_type": "markdown",
   "metadata": {
    "deletable": true,
    "editable": true
   },
   "source": [
    "# TV Script Generation\n",
    "In this project, you'll generate your own [Simpsons](https://en.wikipedia.org/wiki/The_Simpsons) TV scripts using RNNs.  You'll be using part of the [Simpsons dataset](https://www.kaggle.com/wcukierski/the-simpsons-by-the-data) of scripts from 27 seasons.  The Neural Network you'll build will generate a new TV script for a scene at [Moe's Tavern](https://simpsonswiki.com/wiki/Moe's_Tavern).\n",
    "## Get the Data\n",
    "The data is already provided for you.  You'll be using a subset of the original dataset.  It consists of only the scenes in Moe's Tavern.  This doesn't include other versions of the tavern, like \"Moe's Cavern\", \"Flaming Moe's\", \"Uncle Moe's Family Feed-Bag\", etc.."
   ]
  },
  {
   "cell_type": "code",
   "execution_count": 1,
   "metadata": {
    "collapsed": false,
    "deletable": true,
    "editable": true
   },
   "outputs": [],
   "source": [
    "\"\"\"\n",
    "DON'T MODIFY ANYTHING IN THIS CELL\n",
    "\"\"\"\n",
    "import helper\n",
    "\n",
    "data_dir = './data/simpsons/moes_tavern_lines.txt'\n",
    "text = helper.load_data(data_dir)\n",
    "# Ignore notice, since we don't use it for analysing the data\n",
    "text = text[81:]"
   ]
  },
  {
   "cell_type": "markdown",
   "metadata": {
    "deletable": true,
    "editable": true
   },
   "source": [
    "## Explore the Data\n",
    "Play around with `view_sentence_range` to view different parts of the data."
   ]
  },
  {
   "cell_type": "code",
   "execution_count": 2,
   "metadata": {
    "collapsed": false,
    "deletable": true,
    "editable": true
   },
   "outputs": [
    {
     "name": "stdout",
     "output_type": "stream",
     "text": [
      "Dataset Stats\n",
      "Roughly the number of unique words: 11492\n",
      "Number of scenes: 262\n",
      "Average number of sentences in each scene: 15.248091603053435\n",
      "Number of lines: 4257\n",
      "Average number of words in each line: 11.50434578341555\n",
      "\n",
      "The sentences 0 to 10:\n",
      "Moe_Szyslak: (INTO PHONE) Moe's Tavern. Where the elite meet to drink.\n",
      "Bart_Simpson: Eh, yeah, hello, is Mike there? Last name, Rotch.\n",
      "Moe_Szyslak: (INTO PHONE) Hold on, I'll check. (TO BARFLIES) Mike Rotch. Mike Rotch. Hey, has anybody seen Mike Rotch, lately?\n",
      "Moe_Szyslak: (INTO PHONE) Listen you little puke. One of these days I'm gonna catch you, and I'm gonna carve my name on your back with an ice pick.\n",
      "Moe_Szyslak: What's the matter Homer? You're not your normal effervescent self.\n",
      "Homer_Simpson: I got my problems, Moe. Give me another one.\n",
      "Moe_Szyslak: Homer, hey, you should not drink to forget your problems.\n",
      "Barney_Gumble: Yeah, you should only drink to enhance your social skills.\n",
      "\n",
      "\n"
     ]
    }
   ],
   "source": [
    "view_sentence_range = (0, 10)\n",
    "\n",
    "\"\"\"\n",
    "DON'T MODIFY ANYTHING IN THIS CELL\n",
    "\"\"\"\n",
    "import numpy as np\n",
    "\n",
    "print('Dataset Stats')\n",
    "print('Roughly the number of unique words: {}'.format(len({word: None for word in text.split()})))\n",
    "scenes = text.split('\\n\\n')\n",
    "print('Number of scenes: {}'.format(len(scenes)))\n",
    "sentence_count_scene = [scene.count('\\n') for scene in scenes]\n",
    "print('Average number of sentences in each scene: {}'.format(np.average(sentence_count_scene)))\n",
    "\n",
    "sentences = [sentence for scene in scenes for sentence in scene.split('\\n')]\n",
    "print('Number of lines: {}'.format(len(sentences)))\n",
    "word_count_sentence = [len(sentence.split()) for sentence in sentences]\n",
    "print('Average number of words in each line: {}'.format(np.average(word_count_sentence)))\n",
    "\n",
    "print()\n",
    "print('The sentences {} to {}:'.format(*view_sentence_range))\n",
    "print('\\n'.join(text.split('\\n')[view_sentence_range[0]:view_sentence_range[1]]))"
   ]
  },
  {
   "cell_type": "markdown",
   "metadata": {
    "deletable": true,
    "editable": true
   },
   "source": [
    "## Implement Preprocessing Functions\n",
    "The first thing to do to any dataset is preprocessing.  Implement the following preprocessing functions below:\n",
    "- Lookup Table\n",
    "- Tokenize Punctuation\n",
    "\n",
    "### Lookup Table\n",
    "To create a word embedding, you first need to transform the words to ids.  In this function, create two dictionaries:\n",
    "- Dictionary to go from the words to an id, we'll call `vocab_to_int`\n",
    "- Dictionary to go from the id to word, we'll call `int_to_vocab`\n",
    "\n",
    "Return these dictionaries in the following tuple `(vocab_to_int, int_to_vocab)`"
   ]
  },
  {
   "cell_type": "code",
   "execution_count": 3,
   "metadata": {
    "collapsed": false,
    "deletable": true,
    "editable": true
   },
   "outputs": [
    {
     "name": "stdout",
     "output_type": "stream",
     "text": [
      "Tests Passed\n"
     ]
    }
   ],
   "source": [
    "import numpy as np\n",
    "import problem_unittests as tests\n",
    "\n",
    "def create_lookup_tables(text):\n",
    "    \"\"\"\n",
    "    Create lookup tables for vocabulary\n",
    "    :param text: The text of tv scripts split into words\n",
    "    :return: A tuple of dicts (vocab_to_int, int_to_vocab)\n",
    "    \"\"\"\n",
    "    # TODO: Implement Function\n",
    "    vocab = set(text)\n",
    "    vocab_to_int = {c: i for i, c in enumerate(vocab)}\n",
    "    int_to_vocab = dict(enumerate(vocab))\n",
    "    return vocab_to_int, int_to_vocab\n",
    "\n",
    "\n",
    "\"\"\"\n",
    "DON'T MODIFY ANYTHING IN THIS CELL THAT IS BELOW THIS LINE\n",
    "\"\"\"\n",
    "tests.test_create_lookup_tables(create_lookup_tables)"
   ]
  },
  {
   "cell_type": "markdown",
   "metadata": {
    "deletable": true,
    "editable": true
   },
   "source": [
    "### Tokenize Punctuation\n",
    "We'll be splitting the script into a word array using spaces as delimiters.  However, punctuations like periods and exclamation marks make it hard for the neural network to distinguish between the word \"bye\" and \"bye!\".\n",
    "\n",
    "Implement the function `token_lookup` to return a dict that will be used to tokenize symbols like \"!\" into \"||Exclamation_Mark||\".  Create a dictionary for the following symbols where the symbol is the key and value is the token:\n",
    "- Period ( . )\n",
    "- Comma ( , )\n",
    "- Quotation Mark ( \" )\n",
    "- Semicolon ( ; )\n",
    "- Exclamation mark ( ! )\n",
    "- Question mark ( ? )\n",
    "- Left Parentheses ( ( )\n",
    "- Right Parentheses ( ) )\n",
    "- Dash ( -- )\n",
    "- Return ( \\n )\n",
    "\n",
    "This dictionary will be used to token the symbols and add the delimiter (space) around it.  This separates the symbols as it's own word, making it easier for the neural network to predict on the next word. Make sure you don't use a token that could be confused as a word. Instead of using the token \"dash\", try using something like \"||dash||\"."
   ]
  },
  {
   "cell_type": "code",
   "execution_count": 4,
   "metadata": {
    "collapsed": false,
    "deletable": true,
    "editable": true
   },
   "outputs": [
    {
     "name": "stdout",
     "output_type": "stream",
     "text": [
      "Tests Passed\n"
     ]
    }
   ],
   "source": [
    "def token_lookup():\n",
    "    \"\"\"\n",
    "    Generate a dict to turn punctuation into a token.\n",
    "    :return: Tokenize dictionary where the key is the punctuation and the value is the token\n",
    "    \"\"\"\n",
    "    # TODO: Implement Function\n",
    "    punct_dict = dict()\n",
    "    punct_dict[\".\"] = \"||Period||\"\n",
    "    punct_dict[\",\"] = \"||Comma||\"\n",
    "    punct_dict[\"\\\"\"] = \"||Quotation_Mark||\"\n",
    "    punct_dict[\";\"] = \"||Semicolon||\"\n",
    "    punct_dict[\"!\"] = \"||Exclamation_Mark||\"\n",
    "    punct_dict[\"?\"] = \"||Question_Mark||\"\n",
    "    punct_dict[\"(\"] = \"||Left_Parentheses||\"\n",
    "    punct_dict[\")\"] = \"||Right_Parentheses||\"\n",
    "    punct_dict[\"--\"] = \"||Dash||\"\n",
    "    punct_dict[\"\\n\"] = \"||Return||\"\n",
    "    return punct_dict\n",
    "\n",
    "\"\"\"\n",
    "DON'T MODIFY ANYTHING IN THIS CELL THAT IS BELOW THIS LINE\n",
    "\"\"\"\n",
    "tests.test_tokenize(token_lookup)"
   ]
  },
  {
   "cell_type": "markdown",
   "metadata": {
    "deletable": true,
    "editable": true
   },
   "source": [
    "## Preprocess all the data and save it\n",
    "Running the code cell below will preprocess all the data and save it to file."
   ]
  },
  {
   "cell_type": "code",
   "execution_count": 5,
   "metadata": {
    "collapsed": false,
    "deletable": true,
    "editable": true
   },
   "outputs": [],
   "source": [
    "\"\"\"\n",
    "DON'T MODIFY ANYTHING IN THIS CELL\n",
    "\"\"\"\n",
    "# Preprocess Training, Validation, and Testing Data\n",
    "helper.preprocess_and_save_data(data_dir, token_lookup, create_lookup_tables)"
   ]
  },
  {
   "cell_type": "markdown",
   "metadata": {
    "deletable": true,
    "editable": true
   },
   "source": [
    "# Check Point\n",
    "This is your first checkpoint. If you ever decide to come back to this notebook or have to restart the notebook, you can start from here. The preprocessed data has been saved to disk."
   ]
  },
  {
   "cell_type": "code",
   "execution_count": 6,
   "metadata": {
    "collapsed": false,
    "deletable": true,
    "editable": true
   },
   "outputs": [],
   "source": [
    "\"\"\"\n",
    "DON'T MODIFY ANYTHING IN THIS CELL\n",
    "\"\"\"\n",
    "import helper\n",
    "import numpy as np\n",
    "import problem_unittests as tests\n",
    "\n",
    "int_text, vocab_to_int, int_to_vocab, token_dict = helper.load_preprocess()"
   ]
  },
  {
   "cell_type": "markdown",
   "metadata": {
    "deletable": true,
    "editable": true
   },
   "source": [
    "## Build the Neural Network\n",
    "You'll build the components necessary to build a RNN by implementing the following functions below:\n",
    "- get_inputs\n",
    "- get_init_cell\n",
    "- get_embed\n",
    "- build_rnn\n",
    "- build_nn\n",
    "- get_batches\n",
    "\n",
    "### Check the Version of TensorFlow and Access to GPU"
   ]
  },
  {
   "cell_type": "code",
   "execution_count": 7,
   "metadata": {
    "collapsed": false,
    "deletable": true,
    "editable": true
   },
   "outputs": [
    {
     "name": "stdout",
     "output_type": "stream",
     "text": [
      "TensorFlow Version: 1.0.0\n",
      "Default GPU Device: /gpu:0\n"
     ]
    }
   ],
   "source": [
    "\"\"\"\n",
    "DON'T MODIFY ANYTHING IN THIS CELL\n",
    "\"\"\"\n",
    "from distutils.version import LooseVersion\n",
    "import warnings\n",
    "import tensorflow as tf\n",
    "\n",
    "# Check TensorFlow Version\n",
    "assert LooseVersion(tf.__version__) >= LooseVersion('1.0'), 'Please use TensorFlow version 1.0 or newer'\n",
    "print('TensorFlow Version: {}'.format(tf.__version__))\n",
    "\n",
    "# Check for a GPU\n",
    "if not tf.test.gpu_device_name():\n",
    "    warnings.warn('No GPU found. Please use a GPU to train your neural network.')\n",
    "else:\n",
    "    print('Default GPU Device: {}'.format(tf.test.gpu_device_name()))"
   ]
  },
  {
   "cell_type": "markdown",
   "metadata": {
    "deletable": true,
    "editable": true
   },
   "source": [
    "### Input\n",
    "Implement the `get_inputs()` function to create TF Placeholders for the Neural Network.  It should create the following placeholders:\n",
    "- Input text placeholder named \"input\" using the [TF Placeholder](https://www.tensorflow.org/api_docs/python/tf/placeholder) `name` parameter.\n",
    "- Targets placeholder\n",
    "- Learning Rate placeholder\n",
    "\n",
    "Return the placeholders in the following tuple `(Input, Targets, LearningRate)`"
   ]
  },
  {
   "cell_type": "code",
   "execution_count": 8,
   "metadata": {
    "collapsed": false,
    "deletable": true,
    "editable": true
   },
   "outputs": [
    {
     "name": "stdout",
     "output_type": "stream",
     "text": [
      "Tests Passed\n"
     ]
    }
   ],
   "source": [
    "def get_inputs():\n",
    "    \"\"\"\n",
    "    Create TF Placeholders for input, targets, and learning rate.\n",
    "    :return: Tuple (input, targets, learning rate)\n",
    "    \"\"\"\n",
    "    # TODO: Implement Function\n",
    "    input = tf.placeholder(tf.int32, [None, None], name='input')\n",
    "    targets = tf.placeholder(tf.int32, [None, None], name='targets')\n",
    "    learning_rate = tf.placeholder(tf.float32, name='learning_rate')\n",
    "    \n",
    "    return input, targets, learning_rate\n",
    "\n",
    "\n",
    "\"\"\"\n",
    "DON'T MODIFY ANYTHING IN THIS CELL THAT IS BELOW THIS LINE\n",
    "\"\"\"\n",
    "tests.test_get_inputs(get_inputs)"
   ]
  },
  {
   "cell_type": "markdown",
   "metadata": {
    "deletable": true,
    "editable": true
   },
   "source": [
    "### Build RNN Cell and Initialize\n",
    "Stack one or more [`BasicLSTMCells`](https://www.tensorflow.org/api_docs/python/tf/contrib/rnn/BasicLSTMCell) in a [`MultiRNNCell`](https://www.tensorflow.org/api_docs/python/tf/contrib/rnn/MultiRNNCell).\n",
    "- The Rnn size should be set using `rnn_size`\n",
    "- Initalize Cell State using the MultiRNNCell's [`zero_state()`](https://www.tensorflow.org/api_docs/python/tf/contrib/rnn/MultiRNNCell#zero_state) function\n",
    "    - Apply the name \"initial_state\" to the initial state using [`tf.identity()`](https://www.tensorflow.org/api_docs/python/tf/identity)\n",
    "\n",
    "Return the cell and initial state in the following tuple `(Cell, InitialState)`"
   ]
  },
  {
   "cell_type": "code",
   "execution_count": 9,
   "metadata": {
    "collapsed": false,
    "deletable": true,
    "editable": true
   },
   "outputs": [
    {
     "name": "stdout",
     "output_type": "stream",
     "text": [
      "Tests Passed\n"
     ]
    }
   ],
   "source": [
    "def get_init_cell(batch_size, rnn_size):\n",
    "    \"\"\"\n",
    "    Create an RNN Cell and initialize it.\n",
    "    :param batch_size: Size of batches\n",
    "    :param rnn_size: Size of RNNs\n",
    "    :return: Tuple (cell, initialize state)\n",
    "    \"\"\"\n",
    "    # TODO: Implement Function\n",
    "    lstm = tf.contrib.rnn.BasicLSTMCell(rnn_size)\n",
    "    #keep everything (No dropout).\n",
    "    drop = tf.contrib.rnn.DropoutWrapper(lstm, output_keep_prob=1.0)\n",
    "    cell = tf.contrib.rnn.MultiRNNCell([drop])\n",
    "    initial_state = cell.zero_state(batch_size, tf.float32)\n",
    "    initial_state = tf.identity(initial_state, name='initial_state')\n",
    "    return cell, initial_state\n",
    "\n",
    "\n",
    "\"\"\"\n",
    "DON'T MODIFY ANYTHING IN THIS CELL THAT IS BELOW THIS LINE\n",
    "\"\"\"\n",
    "tests.test_get_init_cell(get_init_cell)"
   ]
  },
  {
   "cell_type": "markdown",
   "metadata": {
    "deletable": true,
    "editable": true
   },
   "source": [
    "### Word Embedding\n",
    "Apply embedding to `input_data` using TensorFlow.  Return the embedded sequence."
   ]
  },
  {
   "cell_type": "code",
   "execution_count": 10,
   "metadata": {
    "collapsed": false,
    "deletable": true,
    "editable": true
   },
   "outputs": [
    {
     "name": "stdout",
     "output_type": "stream",
     "text": [
      "Tests Passed\n"
     ]
    }
   ],
   "source": [
    "def get_embed(input_data, vocab_size, embed_dim):\n",
    "    \"\"\"\n",
    "    Create embedding for <input_data>.\n",
    "    :param input_data: TF placeholder for text input.\n",
    "    :param vocab_size: Number of words in vocabulary.\n",
    "    :param embed_dim: Number of embedding dimensions\n",
    "    :return: Embedded input.\n",
    "    \"\"\"\n",
    "    # TODO: Implement Function\n",
    "    embedVar = tf.Variable(tf.random_uniform((vocab_size, embed_dim), -1, 1))\n",
    "    embed = tf.nn.embedding_lookup(embedVar, input_data)\n",
    "    \n",
    "    return embed\n",
    "\n",
    "\n",
    "\"\"\"\n",
    "DON'T MODIFY ANYTHING IN THIS CELL THAT IS BELOW THIS LINE\n",
    "\"\"\"\n",
    "tests.test_get_embed(get_embed)"
   ]
  },
  {
   "cell_type": "markdown",
   "metadata": {
    "deletable": true,
    "editable": true
   },
   "source": [
    "### Build RNN\n",
    "You created a RNN Cell in the `get_init_cell()` function.  Time to use the cell to create a RNN.\n",
    "- Build the RNN using the [`tf.nn.dynamic_rnn()`](https://www.tensorflow.org/api_docs/python/tf/nn/dynamic_rnn)\n",
    " - Apply the name \"final_state\" to the final state using [`tf.identity()`](https://www.tensorflow.org/api_docs/python/tf/identity)\n",
    "\n",
    "Return the outputs and final_state state in the following tuple `(Outputs, FinalState)` "
   ]
  },
  {
   "cell_type": "code",
   "execution_count": 11,
   "metadata": {
    "collapsed": false,
    "deletable": true,
    "editable": true
   },
   "outputs": [
    {
     "name": "stdout",
     "output_type": "stream",
     "text": [
      "Tests Passed\n"
     ]
    }
   ],
   "source": [
    "def build_rnn(cell, inputs):\n",
    "    \"\"\"\n",
    "    Create a RNN using a RNN Cell\n",
    "    :param cell: RNN Cell\n",
    "    :param inputs: Input text data\n",
    "    :return: Tuple (Outputs, Final State)\n",
    "    \"\"\"\n",
    "    # TODO: Implement Function\n",
    "    outputs, final_state = tf.nn.dynamic_rnn(cell, inputs, dtype=tf.float32)\n",
    "    final_state = tf.identity(final_state, name='final_state')\n",
    "    \n",
    "    return outputs, final_state\n",
    "\n",
    "\n",
    "\"\"\"\n",
    "DON'T MODIFY ANYTHING IN THIS CELL THAT IS BELOW THIS LINE\n",
    "\"\"\"\n",
    "tests.test_build_rnn(build_rnn)"
   ]
  },
  {
   "cell_type": "markdown",
   "metadata": {
    "deletable": true,
    "editable": true
   },
   "source": [
    "### Build the Neural Network\n",
    "Apply the functions you implemented above to:\n",
    "- Apply embedding to `input_data` using your `get_embed(input_data, vocab_size, embed_dim)` function.\n",
    "- Build RNN using `cell` and your `build_rnn(cell, inputs)` function.\n",
    "- Apply a fully connected layer with a linear activation and `vocab_size` as the number of outputs.\n",
    "\n",
    "Return the logits and final state in the following tuple (Logits, FinalState) "
   ]
  },
  {
   "cell_type": "code",
   "execution_count": 12,
   "metadata": {
    "collapsed": false,
    "deletable": true,
    "editable": true
   },
   "outputs": [
    {
     "name": "stdout",
     "output_type": "stream",
     "text": [
      "Tests Passed\n"
     ]
    }
   ],
   "source": [
    "def build_nn(cell, rnn_size, input_data, vocab_size, embed_dim):\n",
    "    \"\"\"\n",
    "    Build part of the neural network\n",
    "    :param cell: RNN cell\n",
    "    :param rnn_size: Size of rnns\n",
    "    :param input_data: Input data\n",
    "    :param vocab_size: Vocabulary size\n",
    "    :param embed_dim: Number of embedding dimensions\n",
    "    :return: Tuple (Logits, FinalState)\n",
    "    \"\"\"\n",
    "    # TODO: Implement Function\n",
    "    embed_input = get_embed(input_data, vocab_size, embed_dim)    \n",
    "    outputs, final_state = build_rnn(cell, embed_input)\n",
    "    logits = tf.contrib.layers.fully_connected(outputs, vocab_size, activation_fn=None)\n",
    "    return logits, final_state\n",
    "\n",
    "\n",
    "\"\"\"\n",
    "DON'T MODIFY ANYTHING IN THIS CELL THAT IS BELOW THIS LINE\n",
    "\"\"\"\n",
    "tests.test_build_nn(build_nn)"
   ]
  },
  {
   "cell_type": "markdown",
   "metadata": {
    "deletable": true,
    "editable": true
   },
   "source": [
    "### Batches\n",
    "Implement `get_batches` to create batches of input and targets using `int_text`.  The batches should be a Numpy array with the shape `(number of batches, 2, batch size, sequence length)`. Each batch contains two elements:\n",
    "- The first element is a single batch of **input** with the shape `[batch size, sequence length]`\n",
    "- The second element is a single batch of **targets** with the shape `[batch size, sequence length]`\n",
    "\n",
    "If you can't fill the last batch with enough data, drop the last batch.\n",
    "\n",
    "For exmple, `get_batches([1, 2, 3, 4, 5, 6, 7, 8, 9, 10, 11, 12, 13, 14, 15, 16, 17, 18, 19, 20], 3, 2)` would return a Numpy array of the following:\n",
    "```\n",
    "[\n",
    "  # First Batch\n",
    "  [\n",
    "    # Batch of Input\n",
    "    [[ 1  2], [ 7  8], [13 14]]\n",
    "    # Batch of targets\n",
    "    [[ 2  3], [ 8  9], [14 15]]\n",
    "  ]\n",
    "\n",
    "  # Second Batch\n",
    "  [\n",
    "    # Batch of Input\n",
    "    [[ 3  4], [ 9 10], [15 16]]\n",
    "    # Batch of targets\n",
    "    [[ 4  5], [10 11], [16 17]]\n",
    "  ]\n",
    "\n",
    "  # Third Batch\n",
    "  [\n",
    "    # Batch of Input\n",
    "    [[ 5  6], [11 12], [17 18]]\n",
    "    # Batch of targets\n",
    "    [[ 6  7], [12 13], [18  1]]\n",
    "  ]\n",
    "]\n",
    "```\n",
    "\n",
    "Notice that the last target value in the last batch is the first input value of the first batch. In this case, `1`. This is a common technique used when creating sequence batches, although it is rather unintuitive."
   ]
  },
  {
   "cell_type": "code",
   "execution_count": 13,
   "metadata": {
    "collapsed": false,
    "deletable": true,
    "editable": true
   },
   "outputs": [
    {
     "name": "stdout",
     "output_type": "stream",
     "text": [
      "Tests Passed\n"
     ]
    }
   ],
   "source": [
    "def get_batches(int_text, batch_size, seq_length):\n",
    "    \"\"\"\n",
    "    Return batches of input and target\n",
    "    :param int_text: Text with the words replaced by their ids\n",
    "    :param batch_size: The size of batch\n",
    "    :param seq_length: The length of sequence\n",
    "    :return: Batches as a Numpy array\n",
    "    \"\"\"\n",
    "    # TODO: Implement Function\n",
    "    n_batches = int(len(int_text) / (batch_size * seq_length))\n",
    "\n",
    "    inputs_data = np.array(int_text[: n_batches * batch_size * seq_length])\n",
    "    targets_data = np.array(int_text[1: n_batches * batch_size * seq_length + 1])\n",
    "\n",
    "    inputs_batches = np.split(inputs_data.reshape(batch_size, -1), n_batches, 1)\n",
    "    targets_batches = np.split(targets_data.reshape(batch_size, -1), n_batches, 1)\n",
    "    \n",
    "    #set the last target value in the last batch equal to the first input value of the first batch\n",
    "    targets_batches[-1][-1][-1] = inputs_batches[0][0][0]\n",
    "    \n",
    "    return np.array(list(zip(inputs_batches, targets_batches)))\n",
    "\n",
    "\"\"\"\n",
    "DON'T MODIFY ANYTHING IN THIS CELL THAT IS BELOW THIS LINE\n",
    "\"\"\"\n",
    "tests.test_get_batches(get_batches)"
   ]
  },
  {
   "cell_type": "markdown",
   "metadata": {
    "deletable": true,
    "editable": true
   },
   "source": [
    "## Neural Network Training\n",
    "### Hyperparameters\n",
    "Tune the following parameters:\n",
    "\n",
    "- Set `num_epochs` to the number of epochs.\n",
    "- Set `batch_size` to the batch size.\n",
    "- Set `rnn_size` to the size of the RNNs.\n",
    "- Set `embed_dim` to the size of the embedding.\n",
    "- Set `seq_length` to the length of sequence.\n",
    "- Set `learning_rate` to the learning rate.\n",
    "- Set `show_every_n_batches` to the number of batches the neural network should print progress."
   ]
  },
  {
   "cell_type": "code",
   "execution_count": 14,
   "metadata": {
    "collapsed": true,
    "deletable": true,
    "editable": true
   },
   "outputs": [],
   "source": [
    "# Number of Epochs\n",
    "num_epochs = 50\n",
    "# Batch Size\n",
    "batch_size = 64\n",
    "# RNN Size\n",
    "rnn_size = 1024\n",
    "# Embedding Dimension Size\n",
    "embed_dim = 200\n",
    "# Sequence Length\n",
    "seq_length = 16\n",
    "# Learning Rate\n",
    "learning_rate = 0.001\n",
    "# Show stats for every n number of batches\n",
    "show_every_n_batches = 11\n",
    "\n",
    "\"\"\"\n",
    "DON'T MODIFY ANYTHING IN THIS CELL THAT IS BELOW THIS LINE\n",
    "\"\"\"\n",
    "save_dir = './save'"
   ]
  },
  {
   "cell_type": "markdown",
   "metadata": {
    "deletable": true,
    "editable": true
   },
   "source": [
    "### Build the Graph\n",
    "Build the graph using the neural network you implemented."
   ]
  },
  {
   "cell_type": "code",
   "execution_count": 15,
   "metadata": {
    "collapsed": false,
    "deletable": true,
    "editable": true
   },
   "outputs": [],
   "source": [
    "\"\"\"\n",
    "DON'T MODIFY ANYTHING IN THIS CELL\n",
    "\"\"\"\n",
    "from tensorflow.contrib import seq2seq\n",
    "\n",
    "train_graph = tf.Graph()\n",
    "with train_graph.as_default():\n",
    "    vocab_size = len(int_to_vocab)\n",
    "    input_text, targets, lr = get_inputs()\n",
    "    input_data_shape = tf.shape(input_text)\n",
    "    cell, initial_state = get_init_cell(input_data_shape[0], rnn_size)\n",
    "    logits, final_state = build_nn(cell, rnn_size, input_text, vocab_size, embed_dim)\n",
    "\n",
    "    # Probabilities for generating words\n",
    "    probs = tf.nn.softmax(logits, name='probs')\n",
    "\n",
    "    # Loss function\n",
    "    cost = seq2seq.sequence_loss(\n",
    "        logits,\n",
    "        targets,\n",
    "        tf.ones([input_data_shape[0], input_data_shape[1]]))\n",
    "\n",
    "    # Optimizer\n",
    "    optimizer = tf.train.AdamOptimizer(lr)\n",
    "\n",
    "    # Gradient Clipping\n",
    "    gradients = optimizer.compute_gradients(cost)\n",
    "    capped_gradients = [(tf.clip_by_value(grad, -1., 1.), var) for grad, var in gradients if grad is not None]\n",
    "    train_op = optimizer.apply_gradients(capped_gradients)"
   ]
  },
  {
   "cell_type": "markdown",
   "metadata": {
    "deletable": true,
    "editable": true
   },
   "source": [
    "## Train\n",
    "Train the neural network on the preprocessed data.  If you have a hard time getting a good loss, check the [forms](https://discussions.udacity.com/) to see if anyone is having the same problem."
   ]
  },
  {
   "cell_type": "code",
   "execution_count": 16,
   "metadata": {
    "collapsed": false,
    "deletable": true,
    "editable": true
   },
   "outputs": [
    {
     "name": "stdout",
     "output_type": "stream",
     "text": [
      "Epoch   0 Batch    0/67   train_loss = 8.822\n",
      "Epoch   0 Batch   11/67   train_loss = 6.831\n",
      "Epoch   0 Batch   22/67   train_loss = 6.165\n",
      "Epoch   0 Batch   33/67   train_loss = 6.050\n",
      "Epoch   0 Batch   44/67   train_loss = 6.065\n",
      "Epoch   0 Batch   55/67   train_loss = 5.943\n",
      "Epoch   0 Batch   66/67   train_loss = 5.610\n",
      "Epoch   1 Batch   10/67   train_loss = 5.477\n",
      "Epoch   1 Batch   21/67   train_loss = 5.427\n",
      "Epoch   1 Batch   32/67   train_loss = 5.502\n",
      "Epoch   1 Batch   43/67   train_loss = 5.471\n",
      "Epoch   1 Batch   54/67   train_loss = 5.357\n",
      "Epoch   1 Batch   65/67   train_loss = 5.046\n",
      "Epoch   2 Batch    9/67   train_loss = 5.071\n",
      "Epoch   2 Batch   20/67   train_loss = 5.057\n",
      "Epoch   2 Batch   31/67   train_loss = 5.014\n",
      "Epoch   2 Batch   42/67   train_loss = 5.198\n",
      "Epoch   2 Batch   53/67   train_loss = 5.257\n",
      "Epoch   2 Batch   64/67   train_loss = 4.755\n",
      "Epoch   3 Batch    8/67   train_loss = 4.788\n",
      "Epoch   3 Batch   19/67   train_loss = 4.800\n",
      "Epoch   3 Batch   30/67   train_loss = 4.761\n",
      "Epoch   3 Batch   41/67   train_loss = 4.759\n",
      "Epoch   3 Batch   52/67   train_loss = 4.885\n",
      "Epoch   3 Batch   63/67   train_loss = 4.651\n",
      "Epoch   4 Batch    7/67   train_loss = 4.602\n",
      "Epoch   4 Batch   18/67   train_loss = 4.719\n",
      "Epoch   4 Batch   29/67   train_loss = 4.753\n",
      "Epoch   4 Batch   40/67   train_loss = 4.754\n",
      "Epoch   4 Batch   51/67   train_loss = 4.529\n",
      "Epoch   4 Batch   62/67   train_loss = 4.492\n",
      "Epoch   5 Batch    6/67   train_loss = 4.412\n",
      "Epoch   5 Batch   17/67   train_loss = 4.527\n",
      "Epoch   5 Batch   28/67   train_loss = 4.434\n",
      "Epoch   5 Batch   39/67   train_loss = 4.283\n",
      "Epoch   5 Batch   50/67   train_loss = 4.192\n",
      "Epoch   5 Batch   61/67   train_loss = 4.304\n",
      "Epoch   6 Batch    5/67   train_loss = 4.396\n",
      "Epoch   6 Batch   16/67   train_loss = 4.272\n",
      "Epoch   6 Batch   27/67   train_loss = 4.360\n",
      "Epoch   6 Batch   38/67   train_loss = 4.275\n",
      "Epoch   6 Batch   49/67   train_loss = 4.107\n",
      "Epoch   6 Batch   60/67   train_loss = 4.062\n",
      "Epoch   7 Batch    4/67   train_loss = 4.027\n",
      "Epoch   7 Batch   15/67   train_loss = 4.122\n",
      "Epoch   7 Batch   26/67   train_loss = 4.021\n",
      "Epoch   7 Batch   37/67   train_loss = 4.133\n",
      "Epoch   7 Batch   48/67   train_loss = 3.945\n",
      "Epoch   7 Batch   59/67   train_loss = 3.952\n",
      "Epoch   8 Batch    3/67   train_loss = 3.952\n",
      "Epoch   8 Batch   14/67   train_loss = 3.984\n",
      "Epoch   8 Batch   25/67   train_loss = 3.947\n",
      "Epoch   8 Batch   36/67   train_loss = 3.855\n",
      "Epoch   8 Batch   47/67   train_loss = 3.945\n",
      "Epoch   8 Batch   58/67   train_loss = 3.870\n",
      "Epoch   9 Batch    2/67   train_loss = 3.584\n",
      "Epoch   9 Batch   13/67   train_loss = 3.782\n",
      "Epoch   9 Batch   24/67   train_loss = 3.756\n",
      "Epoch   9 Batch   35/67   train_loss = 3.648\n",
      "Epoch   9 Batch   46/67   train_loss = 3.576\n",
      "Epoch   9 Batch   57/67   train_loss = 3.563\n",
      "Epoch  10 Batch    1/67   train_loss = 3.585\n",
      "Epoch  10 Batch   12/67   train_loss = 3.554\n",
      "Epoch  10 Batch   23/67   train_loss = 3.580\n",
      "Epoch  10 Batch   34/67   train_loss = 3.566\n",
      "Epoch  10 Batch   45/67   train_loss = 3.493\n",
      "Epoch  10 Batch   56/67   train_loss = 3.537\n",
      "Epoch  11 Batch    0/67   train_loss = 3.505\n",
      "Epoch  11 Batch   11/67   train_loss = 3.378\n",
      "Epoch  11 Batch   22/67   train_loss = 3.328\n",
      "Epoch  11 Batch   33/67   train_loss = 3.432\n",
      "Epoch  11 Batch   44/67   train_loss = 3.350\n",
      "Epoch  11 Batch   55/67   train_loss = 3.397\n",
      "Epoch  11 Batch   66/67   train_loss = 3.231\n",
      "Epoch  12 Batch   10/67   train_loss = 3.368\n",
      "Epoch  12 Batch   21/67   train_loss = 3.292\n",
      "Epoch  12 Batch   32/67   train_loss = 3.239\n",
      "Epoch  12 Batch   43/67   train_loss = 3.213\n",
      "Epoch  12 Batch   54/67   train_loss = 3.267\n",
      "Epoch  12 Batch   65/67   train_loss = 3.060\n",
      "Epoch  13 Batch    9/67   train_loss = 3.160\n",
      "Epoch  13 Batch   20/67   train_loss = 3.116\n",
      "Epoch  13 Batch   31/67   train_loss = 3.061\n",
      "Epoch  13 Batch   42/67   train_loss = 3.074\n",
      "Epoch  13 Batch   53/67   train_loss = 3.203\n",
      "Epoch  13 Batch   64/67   train_loss = 3.022\n",
      "Epoch  14 Batch    8/67   train_loss = 3.030\n",
      "Epoch  14 Batch   19/67   train_loss = 2.873\n",
      "Epoch  14 Batch   30/67   train_loss = 2.840\n",
      "Epoch  14 Batch   41/67   train_loss = 2.871\n",
      "Epoch  14 Batch   52/67   train_loss = 3.008\n",
      "Epoch  14 Batch   63/67   train_loss = 2.903\n",
      "Epoch  15 Batch    7/67   train_loss = 2.958\n",
      "Epoch  15 Batch   18/67   train_loss = 2.861\n",
      "Epoch  15 Batch   29/67   train_loss = 2.933\n",
      "Epoch  15 Batch   40/67   train_loss = 2.781\n",
      "Epoch  15 Batch   51/67   train_loss = 2.810\n",
      "Epoch  15 Batch   62/67   train_loss = 2.853\n",
      "Epoch  16 Batch    6/67   train_loss = 2.832\n",
      "Epoch  16 Batch   17/67   train_loss = 2.872\n",
      "Epoch  16 Batch   28/67   train_loss = 2.703\n",
      "Epoch  16 Batch   39/67   train_loss = 2.689\n",
      "Epoch  16 Batch   50/67   train_loss = 2.659\n",
      "Epoch  16 Batch   61/67   train_loss = 2.683\n",
      "Epoch  17 Batch    5/67   train_loss = 2.761\n",
      "Epoch  17 Batch   16/67   train_loss = 2.621\n",
      "Epoch  17 Batch   27/67   train_loss = 2.626\n",
      "Epoch  17 Batch   38/67   train_loss = 2.559\n",
      "Epoch  17 Batch   49/67   train_loss = 2.536\n",
      "Epoch  17 Batch   60/67   train_loss = 2.594\n",
      "Epoch  18 Batch    4/67   train_loss = 2.465\n",
      "Epoch  18 Batch   15/67   train_loss = 2.526\n",
      "Epoch  18 Batch   26/67   train_loss = 2.511\n",
      "Epoch  18 Batch   37/67   train_loss = 2.487\n",
      "Epoch  18 Batch   48/67   train_loss = 2.409\n",
      "Epoch  18 Batch   59/67   train_loss = 2.414\n",
      "Epoch  19 Batch    3/67   train_loss = 2.552\n",
      "Epoch  19 Batch   14/67   train_loss = 2.448\n",
      "Epoch  19 Batch   25/67   train_loss = 2.385\n",
      "Epoch  19 Batch   36/67   train_loss = 2.271\n",
      "Epoch  19 Batch   47/67   train_loss = 2.407\n",
      "Epoch  19 Batch   58/67   train_loss = 2.269\n",
      "Epoch  20 Batch    2/67   train_loss = 2.241\n",
      "Epoch  20 Batch   13/67   train_loss = 2.249\n",
      "Epoch  20 Batch   24/67   train_loss = 2.296\n",
      "Epoch  20 Batch   35/67   train_loss = 2.181\n",
      "Epoch  20 Batch   46/67   train_loss = 2.056\n",
      "Epoch  20 Batch   57/67   train_loss = 2.152\n",
      "Epoch  21 Batch    1/67   train_loss = 2.177\n",
      "Epoch  21 Batch   12/67   train_loss = 2.206\n",
      "Epoch  21 Batch   23/67   train_loss = 2.126\n",
      "Epoch  21 Batch   34/67   train_loss = 2.180\n",
      "Epoch  21 Batch   45/67   train_loss = 2.040\n",
      "Epoch  21 Batch   56/67   train_loss = 2.086\n",
      "Epoch  22 Batch    0/67   train_loss = 2.187\n",
      "Epoch  22 Batch   11/67   train_loss = 1.994\n",
      "Epoch  22 Batch   22/67   train_loss = 2.051\n",
      "Epoch  22 Batch   33/67   train_loss = 1.956\n",
      "Epoch  22 Batch   44/67   train_loss = 1.946\n",
      "Epoch  22 Batch   55/67   train_loss = 1.897\n",
      "Epoch  22 Batch   66/67   train_loss = 1.871\n",
      "Epoch  23 Batch   10/67   train_loss = 2.037\n",
      "Epoch  23 Batch   21/67   train_loss = 1.951\n",
      "Epoch  23 Batch   32/67   train_loss = 1.867\n",
      "Epoch  23 Batch   43/67   train_loss = 1.862\n",
      "Epoch  23 Batch   54/67   train_loss = 1.884\n",
      "Epoch  23 Batch   65/67   train_loss = 1.811\n",
      "Epoch  24 Batch    9/67   train_loss = 1.860\n",
      "Epoch  24 Batch   20/67   train_loss = 1.817\n",
      "Epoch  24 Batch   31/67   train_loss = 1.749\n",
      "Epoch  24 Batch   42/67   train_loss = 1.602\n",
      "Epoch  24 Batch   53/67   train_loss = 1.734\n",
      "Epoch  24 Batch   64/67   train_loss = 1.716\n",
      "Epoch  25 Batch    8/67   train_loss = 1.773\n",
      "Epoch  25 Batch   19/67   train_loss = 1.595\n",
      "Epoch  25 Batch   30/67   train_loss = 1.584\n",
      "Epoch  25 Batch   41/67   train_loss = 1.597\n",
      "Epoch  25 Batch   52/67   train_loss = 1.642\n",
      "Epoch  25 Batch   63/67   train_loss = 1.541\n",
      "Epoch  26 Batch    7/67   train_loss = 1.647\n",
      "Epoch  26 Batch   18/67   train_loss = 1.577\n",
      "Epoch  26 Batch   29/67   train_loss = 1.617\n",
      "Epoch  26 Batch   40/67   train_loss = 1.384\n",
      "Epoch  26 Batch   51/67   train_loss = 1.485\n",
      "Epoch  26 Batch   62/67   train_loss = 1.513\n",
      "Epoch  27 Batch    6/67   train_loss = 1.505\n",
      "Epoch  27 Batch   17/67   train_loss = 1.583\n",
      "Epoch  27 Batch   28/67   train_loss = 1.375\n",
      "Epoch  27 Batch   39/67   train_loss = 1.451\n",
      "Epoch  27 Batch   50/67   train_loss = 1.370\n",
      "Epoch  27 Batch   61/67   train_loss = 1.315\n",
      "Epoch  28 Batch    5/67   train_loss = 1.330\n",
      "Epoch  28 Batch   16/67   train_loss = 1.322\n",
      "Epoch  28 Batch   27/67   train_loss = 1.308\n",
      "Epoch  28 Batch   38/67   train_loss = 1.173\n",
      "Epoch  28 Batch   49/67   train_loss = 1.259\n",
      "Epoch  28 Batch   60/67   train_loss = 1.252\n",
      "Epoch  29 Batch    4/67   train_loss = 1.144\n",
      "Epoch  29 Batch   15/67   train_loss = 1.135\n",
      "Epoch  29 Batch   26/67   train_loss = 1.340\n",
      "Epoch  29 Batch   37/67   train_loss = 1.178\n",
      "Epoch  29 Batch   48/67   train_loss = 1.141\n",
      "Epoch  29 Batch   59/67   train_loss = 1.220\n",
      "Epoch  30 Batch    3/67   train_loss = 1.196\n",
      "Epoch  30 Batch   14/67   train_loss = 1.123\n",
      "Epoch  30 Batch   25/67   train_loss = 1.144\n",
      "Epoch  30 Batch   36/67   train_loss = 1.013\n",
      "Epoch  30 Batch   47/67   train_loss = 1.097\n",
      "Epoch  30 Batch   58/67   train_loss = 1.050\n",
      "Epoch  31 Batch    2/67   train_loss = 1.067\n",
      "Epoch  31 Batch   13/67   train_loss = 1.057\n",
      "Epoch  31 Batch   24/67   train_loss = 1.004\n",
      "Epoch  31 Batch   35/67   train_loss = 1.042\n",
      "Epoch  31 Batch   46/67   train_loss = 0.843\n",
      "Epoch  31 Batch   57/67   train_loss = 0.931\n",
      "Epoch  32 Batch    1/67   train_loss = 0.973\n",
      "Epoch  32 Batch   12/67   train_loss = 1.035\n",
      "Epoch  32 Batch   23/67   train_loss = 0.932\n",
      "Epoch  32 Batch   34/67   train_loss = 1.026\n",
      "Epoch  32 Batch   45/67   train_loss = 0.887\n",
      "Epoch  32 Batch   56/67   train_loss = 0.856\n",
      "Epoch  33 Batch    0/67   train_loss = 0.956\n",
      "Epoch  33 Batch   11/67   train_loss = 0.840\n",
      "Epoch  33 Batch   22/67   train_loss = 0.904\n",
      "Epoch  33 Batch   33/67   train_loss = 0.799\n",
      "Epoch  33 Batch   44/67   train_loss = 0.790\n",
      "Epoch  33 Batch   55/67   train_loss = 0.792\n",
      "Epoch  33 Batch   66/67   train_loss = 0.752\n",
      "Epoch  34 Batch   10/67   train_loss = 0.878\n",
      "Epoch  34 Batch   21/67   train_loss = 0.869\n",
      "Epoch  34 Batch   32/67   train_loss = 0.805\n",
      "Epoch  34 Batch   43/67   train_loss = 0.781\n",
      "Epoch  34 Batch   54/67   train_loss = 0.709\n",
      "Epoch  34 Batch   65/67   train_loss = 0.734\n",
      "Epoch  35 Batch    9/67   train_loss = 0.742\n",
      "Epoch  35 Batch   20/67   train_loss = 0.791\n",
      "Epoch  35 Batch   31/67   train_loss = 0.758\n",
      "Epoch  35 Batch   42/67   train_loss = 0.621\n",
      "Epoch  35 Batch   53/67   train_loss = 0.596\n",
      "Epoch  35 Batch   64/67   train_loss = 0.643\n",
      "Epoch  36 Batch    8/67   train_loss = 0.728\n",
      "Epoch  36 Batch   19/67   train_loss = 0.620\n",
      "Epoch  36 Batch   30/67   train_loss = 0.659\n",
      "Epoch  36 Batch   41/67   train_loss = 0.688\n",
      "Epoch  36 Batch   52/67   train_loss = 0.628\n",
      "Epoch  36 Batch   63/67   train_loss = 0.586\n",
      "Epoch  37 Batch    7/67   train_loss = 0.657\n",
      "Epoch  37 Batch   18/67   train_loss = 0.633\n",
      "Epoch  37 Batch   29/67   train_loss = 0.592\n",
      "Epoch  37 Batch   40/67   train_loss = 0.517\n",
      "Epoch  37 Batch   51/67   train_loss = 0.628\n",
      "Epoch  37 Batch   62/67   train_loss = 0.561\n",
      "Epoch  38 Batch    6/67   train_loss = 0.543\n",
      "Epoch  38 Batch   17/67   train_loss = 0.631\n",
      "Epoch  38 Batch   28/67   train_loss = 0.489\n",
      "Epoch  38 Batch   39/67   train_loss = 0.594\n",
      "Epoch  38 Batch   50/67   train_loss = 0.508\n",
      "Epoch  38 Batch   61/67   train_loss = 0.516\n",
      "Epoch  39 Batch    5/67   train_loss = 0.493\n",
      "Epoch  39 Batch   16/67   train_loss = 0.494\n",
      "Epoch  39 Batch   27/67   train_loss = 0.494\n",
      "Epoch  39 Batch   38/67   train_loss = 0.460\n",
      "Epoch  39 Batch   49/67   train_loss = 0.496\n",
      "Epoch  39 Batch   60/67   train_loss = 0.502\n",
      "Epoch  40 Batch    4/67   train_loss = 0.449\n",
      "Epoch  40 Batch   15/67   train_loss = 0.417\n",
      "Epoch  40 Batch   26/67   train_loss = 0.528\n",
      "Epoch  40 Batch   37/67   train_loss = 0.490\n",
      "Epoch  40 Batch   48/67   train_loss = 0.449\n",
      "Epoch  40 Batch   59/67   train_loss = 0.473\n",
      "Epoch  41 Batch    3/67   train_loss = 0.414\n",
      "Epoch  41 Batch   14/67   train_loss = 0.437\n",
      "Epoch  41 Batch   25/67   train_loss = 0.451\n",
      "Epoch  41 Batch   36/67   train_loss = 0.412\n",
      "Epoch  41 Batch   47/67   train_loss = 0.420\n",
      "Epoch  41 Batch   58/67   train_loss = 0.387\n",
      "Epoch  42 Batch    2/67   train_loss = 0.411\n",
      "Epoch  42 Batch   13/67   train_loss = 0.400\n",
      "Epoch  42 Batch   24/67   train_loss = 0.384\n",
      "Epoch  42 Batch   35/67   train_loss = 0.424\n",
      "Epoch  42 Batch   46/67   train_loss = 0.350\n",
      "Epoch  42 Batch   57/67   train_loss = 0.371\n",
      "Epoch  43 Batch    1/67   train_loss = 0.333\n",
      "Epoch  43 Batch   12/67   train_loss = 0.410\n",
      "Epoch  43 Batch   23/67   train_loss = 0.401\n",
      "Epoch  43 Batch   34/67   train_loss = 0.412\n",
      "Epoch  43 Batch   45/67   train_loss = 0.356\n",
      "Epoch  43 Batch   56/67   train_loss = 0.372\n",
      "Epoch  44 Batch    0/67   train_loss = 0.357\n",
      "Epoch  44 Batch   11/67   train_loss = 0.315\n",
      "Epoch  44 Batch   22/67   train_loss = 0.374\n",
      "Epoch  44 Batch   33/67   train_loss = 0.329\n",
      "Epoch  44 Batch   44/67   train_loss = 0.320\n",
      "Epoch  44 Batch   55/67   train_loss = 0.342\n",
      "Epoch  44 Batch   66/67   train_loss = 0.314\n",
      "Epoch  45 Batch   10/67   train_loss = 0.323\n",
      "Epoch  45 Batch   21/67   train_loss = 0.335\n",
      "Epoch  45 Batch   32/67   train_loss = 0.339\n",
      "Epoch  45 Batch   43/67   train_loss = 0.340\n",
      "Epoch  45 Batch   54/67   train_loss = 0.315\n",
      "Epoch  45 Batch   65/67   train_loss = 0.333\n",
      "Epoch  46 Batch    9/67   train_loss = 0.314\n",
      "Epoch  46 Batch   20/67   train_loss = 0.356\n",
      "Epoch  46 Batch   31/67   train_loss = 0.342\n",
      "Epoch  46 Batch   42/67   train_loss = 0.278\n",
      "Epoch  46 Batch   53/67   train_loss = 0.269\n",
      "Epoch  46 Batch   64/67   train_loss = 0.285\n",
      "Epoch  47 Batch    8/67   train_loss = 0.289\n",
      "Epoch  47 Batch   19/67   train_loss = 0.264\n",
      "Epoch  47 Batch   30/67   train_loss = 0.280\n",
      "Epoch  47 Batch   41/67   train_loss = 0.300\n",
      "Epoch  47 Batch   52/67   train_loss = 0.299\n",
      "Epoch  47 Batch   63/67   train_loss = 0.298\n",
      "Epoch  48 Batch    7/67   train_loss = 0.309\n",
      "Epoch  48 Batch   18/67   train_loss = 0.287\n",
      "Epoch  48 Batch   29/67   train_loss = 0.270\n",
      "Epoch  48 Batch   40/67   train_loss = 0.269\n",
      "Epoch  48 Batch   51/67   train_loss = 0.313\n",
      "Epoch  48 Batch   62/67   train_loss = 0.293\n",
      "Epoch  49 Batch    6/67   train_loss = 0.270\n",
      "Epoch  49 Batch   17/67   train_loss = 0.307\n",
      "Epoch  49 Batch   28/67   train_loss = 0.248\n",
      "Epoch  49 Batch   39/67   train_loss = 0.287\n",
      "Epoch  49 Batch   50/67   train_loss = 0.242\n",
      "Epoch  49 Batch   61/67   train_loss = 0.272\n",
      "Model Trained and Saved\n"
     ]
    }
   ],
   "source": [
    "\"\"\"\n",
    "DON'T MODIFY ANYTHING IN THIS CELL\n",
    "\"\"\"\n",
    "batches = get_batches(int_text, batch_size, seq_length)\n",
    "\n",
    "with tf.Session(graph=train_graph) as sess:\n",
    "    sess.run(tf.global_variables_initializer())\n",
    "\n",
    "    for epoch_i in range(num_epochs):\n",
    "        state = sess.run(initial_state, {input_text: batches[0][0]})\n",
    "\n",
    "        for batch_i, (x, y) in enumerate(batches):\n",
    "            feed = {\n",
    "                input_text: x,\n",
    "                targets: y,\n",
    "                initial_state: state,\n",
    "                lr: learning_rate}\n",
    "            train_loss, state, _ = sess.run([cost, final_state, train_op], feed)\n",
    "\n",
    "            # Show every <show_every_n_batches> batches\n",
    "            if (epoch_i * len(batches) + batch_i) % show_every_n_batches == 0:\n",
    "                print('Epoch {:>3} Batch {:>4}/{}   train_loss = {:.3f}'.format(\n",
    "                    epoch_i,\n",
    "                    batch_i,\n",
    "                    len(batches),\n",
    "                    train_loss))\n",
    "\n",
    "    # Save Model\n",
    "    saver = tf.train.Saver()\n",
    "    saver.save(sess, save_dir)\n",
    "    print('Model Trained and Saved')"
   ]
  },
  {
   "cell_type": "markdown",
   "metadata": {
    "deletable": true,
    "editable": true
   },
   "source": [
    "## Save Parameters\n",
    "Save `seq_length` and `save_dir` for generating a new TV script."
   ]
  },
  {
   "cell_type": "code",
   "execution_count": 17,
   "metadata": {
    "collapsed": false,
    "deletable": true,
    "editable": true
   },
   "outputs": [],
   "source": [
    "\"\"\"\n",
    "DON'T MODIFY ANYTHING IN THIS CELL\n",
    "\"\"\"\n",
    "# Save parameters for checkpoint\n",
    "helper.save_params((seq_length, save_dir))"
   ]
  },
  {
   "cell_type": "markdown",
   "metadata": {
    "deletable": true,
    "editable": true
   },
   "source": [
    "# Checkpoint"
   ]
  },
  {
   "cell_type": "code",
   "execution_count": 18,
   "metadata": {
    "collapsed": false,
    "deletable": true,
    "editable": true
   },
   "outputs": [],
   "source": [
    "\"\"\"\n",
    "DON'T MODIFY ANYTHING IN THIS CELL\n",
    "\"\"\"\n",
    "import tensorflow as tf\n",
    "import numpy as np\n",
    "import helper\n",
    "import problem_unittests as tests\n",
    "\n",
    "_, vocab_to_int, int_to_vocab, token_dict = helper.load_preprocess()\n",
    "seq_length, load_dir = helper.load_params()"
   ]
  },
  {
   "cell_type": "markdown",
   "metadata": {
    "deletable": true,
    "editable": true
   },
   "source": [
    "## Implement Generate Functions\n",
    "### Get Tensors\n",
    "Get tensors from `loaded_graph` using the function [`get_tensor_by_name()`](https://www.tensorflow.org/api_docs/python/tf/Graph#get_tensor_by_name).  Get the tensors using the following names:\n",
    "- \"input:0\"\n",
    "- \"initial_state:0\"\n",
    "- \"final_state:0\"\n",
    "- \"probs:0\"\n",
    "\n",
    "Return the tensors in the following tuple `(InputTensor, InitialStateTensor, FinalStateTensor, ProbsTensor)` "
   ]
  },
  {
   "cell_type": "code",
   "execution_count": 19,
   "metadata": {
    "collapsed": false,
    "deletable": true,
    "editable": true
   },
   "outputs": [
    {
     "name": "stdout",
     "output_type": "stream",
     "text": [
      "Tests Passed\n"
     ]
    }
   ],
   "source": [
    "def get_tensors(loaded_graph):\n",
    "    \"\"\"\n",
    "    Get input, initial state, final state, and probabilities tensor from <loaded_graph>\n",
    "    :param loaded_graph: TensorFlow graph loaded from file\n",
    "    :return: Tuple (InputTensor, InitialStateTensor, FinalStateTensor, ProbsTensor)\n",
    "    \"\"\"\n",
    "    # TODO: Implement Function\n",
    "    InputTensor = loaded_graph.get_tensor_by_name('input:0')\n",
    "    InitialStateTensor = loaded_graph.get_tensor_by_name('initial_state:0')\n",
    "    FinalStateTensor = loaded_graph.get_tensor_by_name('final_state:0')\n",
    "    ProbsTensor = loaded_graph.get_tensor_by_name('probs:0')\n",
    "    \n",
    "    return InputTensor, InitialStateTensor, FinalStateTensor, ProbsTensor\n",
    "\n",
    "\n",
    "\"\"\"\n",
    "DON'T MODIFY ANYTHING IN THIS CELL THAT IS BELOW THIS LINE\n",
    "\"\"\"\n",
    "tests.test_get_tensors(get_tensors)"
   ]
  },
  {
   "cell_type": "markdown",
   "metadata": {
    "deletable": true,
    "editable": true
   },
   "source": [
    "### Choose Word\n",
    "Implement the `pick_word()` function to select the next word using `probabilities`."
   ]
  },
  {
   "cell_type": "code",
   "execution_count": 20,
   "metadata": {
    "collapsed": false,
    "deletable": true,
    "editable": true
   },
   "outputs": [
    {
     "name": "stdout",
     "output_type": "stream",
     "text": [
      "Tests Passed\n"
     ]
    }
   ],
   "source": [
    "def pick_word(probabilities, int_to_vocab):\n",
    "    \"\"\"\n",
    "    Pick the next word in the generated text\n",
    "    :param probabilities: Probabilites of the next word\n",
    "    :param int_to_vocab: Dictionary of word ids as the keys and words as the values\n",
    "    :return: String of the predicted word\n",
    "    \"\"\"\n",
    "    # TODO: Implement Function\n",
    "    word_int_id = np.random.choice(len(probabilities), p=probabilities)\n",
    "    return int_to_vocab[word_int_id]\n",
    "\n",
    "\n",
    "\"\"\"\n",
    "DON'T MODIFY ANYTHING IN THIS CELL THAT IS BELOW THIS LINE\n",
    "\"\"\"\n",
    "tests.test_pick_word(pick_word)"
   ]
  },
  {
   "cell_type": "markdown",
   "metadata": {
    "deletable": true,
    "editable": true
   },
   "source": [
    "## Generate TV Script\n",
    "This will generate the TV script for you.  Set `gen_length` to the length of TV script you want to generate."
   ]
  },
  {
   "cell_type": "code",
   "execution_count": 21,
   "metadata": {
    "collapsed": false,
    "deletable": true,
    "editable": true
   },
   "outputs": [
    {
     "name": "stdout",
     "output_type": "stream",
     "text": [
      "moe_szyslak:(laughs) he'd be back to me.\n",
      "moe_szyslak: yeah, it's not. i'm just a drink.\n",
      "moe_szyslak:(generously) gee, homer. you can't let me out of pity.\n",
      "homer_simpson:(no frustrated noise) aw, i'm one sad who's up. or when my eyes and carl.\n",
      "bart_simpson: hey, where was you!\n",
      "moe_szyslak: yeah, nobody loves... in the ocean call?\n",
      "lenny_leonard: hey, thanks. i want something that says people. / ya out of vodka into a cooler!\n",
      "homer_simpson: let's buy to the man who you ever.\n",
      "moe_szyslak: now it's funny, marge... what's the expression?\n",
      "moe_szyslak: that's the matter homer. we need to focus on the back of your sweaty feet, but too short--\n",
      "homer_simpson: good one of you...\n",
      "moe_szyslak: wait a second, see. if hiring this cobra solves you.\n",
      "\n",
      "\n",
      "homer_simpson: i gotta call marge...\n",
      "moe_szyslak: you will never turn into his buttons?\n",
      "moe_szyslak: hey\n"
     ]
    }
   ],
   "source": [
    "gen_length = 200\n",
    "# homer_simpson, moe_szyslak, or Barney_Gumble\n",
    "prime_word = 'moe_szyslak'\n",
    "\n",
    "\"\"\"\n",
    "DON'T MODIFY ANYTHING IN THIS CELL THAT IS BELOW THIS LINE\n",
    "\"\"\"\n",
    "loaded_graph = tf.Graph()\n",
    "with tf.Session(graph=loaded_graph) as sess:\n",
    "    # Load saved model\n",
    "    loader = tf.train.import_meta_graph(load_dir + '.meta')\n",
    "    loader.restore(sess, load_dir)\n",
    "\n",
    "    # Get Tensors from loaded model\n",
    "    input_text, initial_state, final_state, probs = get_tensors(loaded_graph)\n",
    "\n",
    "    # Sentences generation setup\n",
    "    gen_sentences = [prime_word + ':']\n",
    "    prev_state = sess.run(initial_state, {input_text: np.array([[1]])})\n",
    "\n",
    "    # Generate sentences\n",
    "    for n in range(gen_length):\n",
    "        # Dynamic Input\n",
    "        dyn_input = [[vocab_to_int[word] for word in gen_sentences[-seq_length:]]]\n",
    "        dyn_seq_length = len(dyn_input[0])\n",
    "\n",
    "        # Get Prediction\n",
    "        probabilities, prev_state = sess.run(\n",
    "            [probs, final_state],\n",
    "            {input_text: dyn_input, initial_state: prev_state})\n",
    "        \n",
    "        pred_word = pick_word(probabilities[dyn_seq_length-1], int_to_vocab)\n",
    "\n",
    "        gen_sentences.append(pred_word)\n",
    "    \n",
    "    # Remove tokens\n",
    "    tv_script = ' '.join(gen_sentences)\n",
    "    for key, token in token_dict.items():\n",
    "        ending = ' ' if key in ['\\n', '(', '\"'] else ''\n",
    "        tv_script = tv_script.replace(' ' + token.lower(), key)\n",
    "    tv_script = tv_script.replace('\\n ', '\\n')\n",
    "    tv_script = tv_script.replace('( ', '(')\n",
    "        \n",
    "    print(tv_script)"
   ]
  },
  {
   "cell_type": "markdown",
   "metadata": {
    "deletable": true,
    "editable": true
   },
   "source": [
    "# The TV Script is Nonsensical\n",
    "It's ok if the TV script doesn't make any sense.  We trained on less than a megabyte of text.  In order to get good results, you'll have to use a smaller vocabulary or get more data.  Luckly there's more data!  As we mentioned in the begging of this project, this is a subset of [another dataset](https://www.kaggle.com/wcukierski/the-simpsons-by-the-data).  We didn't have you train on all the data, because that would take too long.  However, you are free to train your neural network on all the data.  After you complete the project, of course.\n",
    "# Submitting This Project\n",
    "When submitting this project, make sure to run all the cells before saving the notebook. Save the notebook file as \"dlnd_tv_script_generation.ipynb\" and save it as a HTML file under \"File\" -> \"Download as\". Include the \"helper.py\" and \"problem_unittests.py\" files in your submission."
   ]
  }
 ],
 "metadata": {
  "kernelspec": {
   "display_name": "Python 3",
   "language": "python",
   "name": "python3"
  },
  "language_info": {
   "codemirror_mode": {
    "name": "ipython",
    "version": 3
   },
   "file_extension": ".py",
   "mimetype": "text/x-python",
   "name": "python",
   "nbconvert_exporter": "python",
   "pygments_lexer": "ipython3",
   "version": "3.6.1"
  },
  "widgets": {
   "state": {},
   "version": "1.1.2"
  }
 },
 "nbformat": 4,
 "nbformat_minor": 0
}
